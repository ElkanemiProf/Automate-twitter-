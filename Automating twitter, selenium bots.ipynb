{
 "cells": [
  {
   "cell_type": "code",
   "execution_count": 1,
   "metadata": {},
   "outputs": [],
   "source": [
    "from selenium import webdriver\n",
    "from selenium.webdriver.common.by import By"
   ]
  },
  {
   "cell_type": "code",
   "execution_count": 5,
   "metadata": {},
   "outputs": [],
   "source": [
    "driver = webdriver.Chrome()\n",
    "driver.get('https://twitter.com/i/flow/login')"
   ]
  },
  {
   "cell_type": "code",
   "execution_count": 6,
   "metadata": {},
   "outputs": [],
   "source": [
    "username = driver.find_element(By.TAG_NAME,'input')\n",
    "username.send_keys('viceroy99')"
   ]
  },
  {
   "cell_type": "code",
   "execution_count": 7,
   "metadata": {},
   "outputs": [],
   "source": [
    "all_buttons = driver.find_elements(By.XPATH, \"//div[@role='button']\")\n",
    "all_buttons[-2].click()"
   ]
  },
  {
   "cell_type": "code",
   "execution_count": 8,
   "metadata": {},
   "outputs": [],
   "source": [
    "password = driver.find_element(By.XPATH, \"//input[@type='password']\")\n",
    "password.send_keys('WgykPjFQ6XNE37K1')"
   ]
  },
  {
   "cell_type": "code",
   "execution_count": 9,
   "metadata": {},
   "outputs": [],
   "source": [
    "all_buttons = driver.find_elements(By.XPATH, \"//div[@role='button']\")\n",
    "all_buttons[-1].click()"
   ]
  },
  {
   "cell_type": "code",
   "execution_count": 10,
   "metadata": {},
   "outputs": [],
   "source": [
    "keyword = 'obi'\n",
    "driver.get('https://twitter.com/search?q=' + keyword + '&src=typed_query')"
   ]
  },
  {
   "cell_type": "code",
   "execution_count": 11,
   "metadata": {},
   "outputs": [],
   "source": [
    "retweet = driver.find_elements(By.XPATH, \"//div[@data-testid='retweet']\")\n",
    "retweet[0].click()"
   ]
  },
  {
   "cell_type": "code",
   "execution_count": 12,
   "metadata": {},
   "outputs": [],
   "source": [
    "quote_tweet = driver.find_element(By.XPATH, \"//a[@role='menuitem']\")\n",
    "quote_tweet.click()"
   ]
  },
  {
   "cell_type": "code",
   "execution_count": 13,
   "metadata": {},
   "outputs": [],
   "source": [
    "quote = driver.find_element(By.XPATH, \"//div[contains(@class,'public-DraftStyleDefault-block')]\")\n",
    "\n",
    "quote.send_keys('WOW!! WE MOVE')"
   ]
  },
  {
   "cell_type": "code",
   "execution_count": 14,
   "metadata": {},
   "outputs": [],
   "source": [
    "tweet = driver.find_element(By.XPATH, \"//div[@data-testid='tweetButton']\")\n",
    "tweet.click()"
   ]
  },
  {
   "cell_type": "code",
   "execution_count": null,
   "metadata": {},
   "outputs": [],
   "source": []
  },
  {
   "cell_type": "code",
   "execution_count": 23,
   "metadata": {},
   "outputs": [],
   "source": [
    "import time\n",
    "import random\n",
    "from selenium import webdriver\n",
    "from selenium.webdriver.common.by import By\n",
    "\n",
    "driver = webdriver.Chrome()\n",
    "driver.get('https://twitter.com/i/flow/login')\n",
    "\n",
    "time.sleep(20)\n",
    "\n",
    "username = driver.find_element(By.TAG_NAME,'input')\n",
    "username.send_keys('viceroy99')\n",
    "all_buttons = driver.find_elements(By.XPATH, \"//div[@role='button']\")\n",
    "all_buttons[-2].click()\n",
    "\n",
    "time.sleep(20)\n",
    "\n",
    "password = driver.find_element(By.XPATH, \"//input[@type='password']\")\n",
    "password.send_keys('WgykPjFQ6XNE37K1')\n",
    "\n",
    "time.sleep(10)\n",
    "\n",
    "all_buttons = driver.find_elements(By.XPATH, \"//div[@role='button']\")\n",
    "all_buttons[-1].click()\n",
    "\n",
    "time.sleep(10)\n",
    "\n",
    "keyword = 'obi'\n",
    "driver.get('https://twitter.com/search?q=' + keyword + '&src=typed_query')\n",
    "time.sleep(10)\n",
    "\n",
    "messages = [\"Eureka\", \"Spectacular\", \"Fantastic\", \"Brilliant\", \"Magnificent\", \"Splendid\", \"Superb\", \"Phenomenal\", \"Incredible\", \"Sublime\"]\n",
    "\n",
    "n_scrolls = 3\n",
    "\n",
    "for scroll in range(n_scrolls):\n",
    "\n",
    "    retweet = driver.find_elements(By.XPATH, \"//div[@data-testid='retweet']\")\n",
    "    driver.execute_script(\"arguments[0].click();\", retweet[-1])\n",
    "    time.sleep(10)\n",
    "\n",
    "    quote_tweet = driver.find_element(By.XPATH, \"//a[@role='menuitem']\")\n",
    "    quote_tweet.click()\n",
    "    time.sleep(10)\n",
    "\n",
    "    quote = driver.find_element(By.XPATH, \"//div[contains(@class,'public-DraftStyleDefault-block')]\")\n",
    "\n",
    "    quote.send_keys(random.choice(messages))\n",
    "    time.sleep(10)\n",
    "\n",
    "    tweet = driver.find_element(By.XPATH, \"//div[@data-testid='tweetButton']\")\n",
    "    tweet.click()\n",
    "    \n",
    "    time.sleep(10)\n",
    "    driver.execute_script('window.scrollTo(0,document.body.scrollHeight);')\n",
    "    time.sleep(10)"
   ]
  },
  {
   "cell_type": "code",
   "execution_count": null,
   "metadata": {},
   "outputs": [],
   "source": []
  }
 ],
 "metadata": {
  "kernelspec": {
   "display_name": "Python 3",
   "language": "python",
   "name": "python3"
  },
  "language_info": {
   "codemirror_mode": {
    "name": "ipython",
    "version": 3
   },
   "file_extension": ".py",
   "mimetype": "text/x-python",
   "name": "python",
   "nbconvert_exporter": "python",
   "pygments_lexer": "ipython3",
   "version": "3.8.3"
  }
 },
 "nbformat": 4,
 "nbformat_minor": 4
}
